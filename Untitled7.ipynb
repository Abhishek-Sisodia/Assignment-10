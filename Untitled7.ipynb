{
 "cells": [
  {
   "cell_type": "code",
   "execution_count": 1,
   "id": "1520d07a-b742-4a5e-91ee-1067b1a735af",
   "metadata": {},
   "outputs": [],
   "source": [
    "#Q1, Create a vehicle class with an init method having instance variables as name_of_vehicle, max_speed and average_of_vehicle.\n",
    "\n",
    "#a vehicle class with an init method having instance variables as name_of_vehicle, max_speed and average_of_vehicle.\n",
    "class vehicle:\n",
    "    def __init__(self, name_of_vehicle, max_speed, average_of_vehicle):\n",
    "        self.name_of_vehicle = name_of_vehicle\n",
    "        self.max_speed = max_speed\n",
    "        self.average_of_vehicle = average_of_vehicle"
   ]
  },
  {
   "cell_type": "code",
   "execution_count": 2,
   "id": "a8306793-fc35-4ea1-8c4d-9f126984b168",
   "metadata": {},
   "outputs": [],
   "source": [
    "#Q2. Create a child class car from the vehicle class created in Que 1, which will inherit the vehicle class. Create a method \n",
    "#named seating_capacity which takes capacity as an argument and returns the name of the vehicle and its seating capacity.\n",
    "\n",
    "#a child class car from the vehicle class created in Que 1, which will inherit the vehicle class.\n",
    "# Create a method named seating_capacity which takes capacity as an argument and returns the name of the vehicle and its seating capacity.\n",
    "class car(vehicle):\n",
    "    def seating_capacity(self, capacity):\n",
    "        self.capacity = capacity\n",
    "        return self.name_of_vehicle, self.capacity"
   ]
  },
  {
   "cell_type": "code",
   "execution_count": 3,
   "id": "0b81a9b0-b5c9-48ae-bace-bd348e89f23a",
   "metadata": {},
   "outputs": [
    {
     "data": {
      "text/plain": [
       "('Bugatti Bolide', 4)"
      ]
     },
     "execution_count": 3,
     "metadata": {},
     "output_type": "execute_result"
    }
   ],
   "source": [
    "c1= car(\"Bugatti Bolide\", 310, 310)\n",
    "c1.seating_capacity(4)"
   ]
  },
  {
   "cell_type": "code",
   "execution_count": 4,
   "id": "bfa4b785-9a2d-4254-afec-6efc39c84f66",
   "metadata": {},
   "outputs": [
    {
     "name": "stdout",
     "output_type": "stream",
     "text": [
      "Parent1 method1\n",
      "Parent2 method2\n"
     ]
    }
   ],
   "source": [
    "#Q3. What is multiple inheritance? Write a python code to demonstrate multiple inheritance.\n",
    "#Multiple inheritance is a feature of object-oriented programming (OOP) languages where a class can inherit properties and methods from more than one \n",
    "#parent class. In other words, a class can inherit from multiple classes, thus inheriting the attributes and behaviors of all its parent classes.\n",
    "\n",
    "#Here is an example of multiple inheritance in Python:-\n",
    "class Parent1:\n",
    "    def method1(self):\n",
    "        print(\"Parent1 method1\")\n",
    "\n",
    "class Parent2:\n",
    "    def method2(self):\n",
    "        print(\"Parent2 method2\")\n",
    "\n",
    "class Child(Parent1, Parent2):\n",
    "    pass\n",
    "\n",
    "c = Child()\n",
    "c.method1()\n",
    "c.method2()"
   ]
  },
  {
   "cell_type": "code",
   "execution_count": 5,
   "id": "dc6fb0ff-6a86-40db-b0c6-aff709d1d1e3",
   "metadata": {},
   "outputs": [
    {
     "name": "stdout",
     "output_type": "stream",
     "text": [
      "Vishvesh Jain\n",
      "Manish Sharma\n"
     ]
    }
   ],
   "source": [
    "#Q4. What are getter and setter in python? Create a class and create a getter and a setter method in this class.\n",
    "#In object-oriented programming, getters and setters are methods used to retrieve and update the values of object\n",
    "#properties, respectively. The use of getters and setters is a common technique for encapsulating object data and \n",
    "#ensuring that it can be accessed and modified in a controlled and predictable manner.\n",
    "\n",
    "class Person:\n",
    "    def __init__(self, name):\n",
    "        self._name = name\n",
    "\n",
    "    def get_name(self):\n",
    "        return self._name\n",
    "\n",
    "    def set_name(self, name):\n",
    "        self._name = name\n",
    "\n",
    "person = Person(\"Vishvesh Jain\")\n",
    "print(person.get_name()) \n",
    "person.set_name(\"Manish Sharma\")\n",
    "print(person.get_name()) "
   ]
  },
  {
   "cell_type": "code",
   "execution_count": 6,
   "id": "8bdddee3-c74c-40c3-ac1d-e960b4d90825",
   "metadata": {},
   "outputs": [
    {
     "name": "stdout",
     "output_type": "stream",
     "text": [
      "200\n",
      "314.0\n"
     ]
    }
   ],
   "source": [
    "#Q5.What is method overriding in python? Write a python code to demonstrate method overriding.\n",
    "#Method overriding is a feature of object-oriented programming in which a subclass can provide a new implementation of a \n",
    "#method that is already defined in its parent class. The subclass method is said to \"override\" the parent class method. \n",
    "#This allows the subclass to change or extend the behavior of the method inherited from the parent class, while still \n",
    "#maintaining the same method signature.\n",
    "\n",
    "class Shape:\n",
    "    def area(self):\n",
    "        pass\n",
    "\n",
    "class Rectangle(Shape):\n",
    "    def __init__(self, width, height):\n",
    "        self.width = width\n",
    "        self.height = height\n",
    "\n",
    "    def area(self):\n",
    "        return self.width * self.height\n",
    "\n",
    "class Circle(Shape):\n",
    "    def __init__(self, radius):\n",
    "        self.radius = radius\n",
    "\n",
    "    def area(self):\n",
    "        return 3.14 * self.radius * self.radius\n",
    "\n",
    "rect = Rectangle(10, 20)\n",
    "print(rect.area()) # Output: 200\n",
    "\n",
    "circle = Circle(10)\n",
    "print(circle.area()) # Output: 314.0"
   ]
  },
  {
   "cell_type": "code",
   "execution_count": null,
   "id": "7cf594d7-2566-455d-96f0-0f2504aaaac7",
   "metadata": {},
   "outputs": [],
   "source": []
  }
 ],
 "metadata": {
  "kernelspec": {
   "display_name": "Python 3 (ipykernel)",
   "language": "python",
   "name": "python3"
  },
  "language_info": {
   "codemirror_mode": {
    "name": "ipython",
    "version": 3
   },
   "file_extension": ".py",
   "mimetype": "text/x-python",
   "name": "python",
   "nbconvert_exporter": "python",
   "pygments_lexer": "ipython3",
   "version": "3.10.8"
  }
 },
 "nbformat": 4,
 "nbformat_minor": 5
}
